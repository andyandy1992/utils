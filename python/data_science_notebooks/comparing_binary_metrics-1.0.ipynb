{
 "cells": [
  {
   "cell_type": "code",
   "execution_count": 1,
   "metadata": {},
   "outputs": [],
   "source": [
    "import numpy as np\n",
    "import sklearn.metrics\n",
    "import matplotlib.pyplot as plt"
   ]
  },
  {
   "cell_type": "markdown",
   "metadata": {},
   "source": [
    "Metrics commonly used in Kaggle (binary classification) competitions:\n",
    "- log_loss (punishes predictions that are confident and wrong far more)\n",
    "- roc_auc_score (evaluate over all decision thresholds (see https://stackoverflow.com/a/34698935/5179470), note affected by class imbalance)\n",
    "\n",
    "Indeed, analysing the effects of class imbalance indicate these are successful metrics, along with:\n",
    "- cohen_kappa_score\n",
    "- matthews_corrcoef\n",
    "\n",
    "When you care more about precision or recall, see:\n",
    "- \"fbeta_score\" `sklearn.metrics.fbeta_score(y_true, y_pred_labels, beta)` (beta < 1 favours precision, beta > 1 favors recall (beta -> 0 considers only precision, beta -> inf only recall)."
   ]
  },
  {
   "cell_type": "markdown",
   "metadata": {},
   "source": [
    "# Determining the best possible predictions (and threshold(s)) from AUC and Precision-Recall Curves"
   ]
  },
  {
   "cell_type": "code",
   "execution_count": 2,
   "metadata": {},
   "outputs": [],
   "source": [
    "y_true = np.array([0, 0, 1, 1])\n",
    "y_pred = np.array([0.1, 0.4, 0.35, 0.8])"
   ]
  },
  {
   "cell_type": "markdown",
   "metadata": {},
   "source": [
    "## AUC"
   ]
  },
  {
   "cell_type": "code",
   "execution_count": 48,
   "metadata": {},
   "outputs": [
    {
     "name": "stdout",
     "output_type": "stream",
     "text": [
      "roc_auc_score=0.75\n",
      "[0.  0.5 0.5 1. ] [0.5 0.5 1.  1. ] [0.8  0.4  0.35 0.1 ]\n",
      "0.75\n"
     ]
    },
    {
     "data": {
      "image/png": "[encoded data removed]",
      "text/plain": [
       "<matplotlib.figure.Figure at 0x7f86ee223fd0>"
      ]
     },
     "metadata": {},
     "output_type": "display_data"
    }
   ],
   "source": [
    "print(\"roc_auc_score={}\".format(sklearn.metrics.roc_auc_score(y_true, y_pred)))\n",
    "\n",
    "# Plot: http://scikit-learn.org/stable/auto_examples/model_selection/plot_roc.html\n",
    "# Compute ROC curve and ROC area for each class\n",
    "fpr, tpr, thresholds = sklearn.metrics.roc_curve(y_true, y_pred)\n",
    "print(fpr, tpr, thresholds)\n",
    "roc_auc = sklearn.metrics.auc(fpr, tpr)\n",
    "print(roc_auc)\n",
    "\n",
    "plt.figure()\n",
    "lw = 2\n",
    "plt.plot(fpr, tpr, color='darkorange',\n",
    "         lw=lw, label='ROC curve (area = %0.2f)' % roc_auc)\n",
    "plt.plot([0, 1], [0, 1], color='navy', lw=lw, linestyle='--')\n",
    "plt.xlim([0.0, 1.0])\n",
    "plt.ylim([0.0, 1.05])\n",
    "plt.xlabel('False Positive Rate')\n",
    "plt.ylabel('True Positive Rate')\n",
    "plt.title('Receiver operating characteristic example')\n",
    "plt.legend(loc=\"lower right\")\n",
    "plt.show()"
   ]
  },
  {
   "cell_type": "markdown",
   "metadata": {},
   "source": [
    "## Precision-Recall curve"
   ]
  },
  {
   "cell_type": "code",
   "execution_count": 52,
   "metadata": {
    "scrolled": false
   },
   "outputs": [
    {
     "name": "stdout",
     "output_type": "stream",
     "text": [
      "average_precision_score=0.8333333333333333\n",
      "[0.66666667 0.5        1.         1.        ] [1.  0.5 0.5 0. ] [0.35 0.4  0.8 ]\n"
     ]
    },
    {
     "data": {
      "text/plain": [
       "Text(0.5,1,'2-class Precision-Recall curve: AP=0.83')"
      ]
     },
     "execution_count": 52,
     "metadata": {},
     "output_type": "execute_result"
    },
    {
     "data": {
      "image/png": "[encoded data removed]",
      "text/plain": [
       "<matplotlib.figure.Figure at 0x7f86ee204320>"
      ]
     },
     "metadata": {},
     "output_type": "display_data"
    }
   ],
   "source": [
    "print(\"average_precision_score={}\".format(sklearn.metrics.average_precision_score(y_true, y_pred)))\n",
    "\n",
    "# Plot\n",
    "precision, recall, thresholds = sklearn.metrics.precision_recall_curve(y_true, y_pred)\n",
    "print(precision, recall, thresholds)\n",
    "plt.step(recall, precision, color='b', alpha=0.2,\n",
    "         where='post')\n",
    "plt.fill_between(recall, precision, step='post', alpha=0.2,\n",
    "                 color='b')\n",
    "plt.xlabel('Recall')\n",
    "plt.ylabel('Precision')\n",
    "plt.ylim([0.0, 1.05])\n",
    "plt.xlim([0.0, 1.0])\n",
    "plt.title('2-class Precision-Recall curve: AP={0:0.2f}'.format(\n",
    "          sklearn.metrics.average_precision_score(y_true, y_pred)))"
   ]
  },
  {
   "cell_type": "markdown",
   "metadata": {},
   "source": [
    "# Analysing all metrics functions"
   ]
  },
  {
   "cell_type": "code",
   "execution_count": 7,
   "metadata": {},
   "outputs": [],
   "source": [
    "# y_pred_labels computed assuming threshold = 0.5 (which produces the best AUC of 0.75 found above)\n",
    "# see also https://stackoverflow.com/a/34698935/5179470\n",
    "y_pred_labels = np.array([0, 0, 0, 1])  # recall original: [0.1, 0.4, 0.35, 0.8]"
   ]
  },
  {
   "cell_type": "code",
   "execution_count": 45,
   "metadata": {},
   "outputs": [
    {
     "name": "stdout",
     "output_type": "stream",
     "text": [
      "=== require y_pred === \n",
      "brier_score_loss=0.15812500000000002\n",
      "hinge_loss=0.8374999999999999\n",
      "log_loss=0.47228795380917615\n",
      "\n",
      "=== require y_pred_labels === \n",
      "hamming_loss=0.25\n",
      "zero_one_loss=0.25\n"
     ]
    }
   ],
   "source": [
    "# LOSSES: better = 0\n",
    "\n",
    "print(\"=== require y_pred === \")\n",
    "print(\"brier_score_loss={}\".format(sklearn.metrics.brier_score_loss(y_true, y_pred)))\n",
    "print(\"hinge_loss={}\".format(sklearn.metrics.hinge_loss(y_true, y_pred)))\n",
    "print(\"log_loss={}\".format(sklearn.metrics.log_loss(y_true, y_pred)))\n",
    "\n",
    "print(\"\\n=== require y_pred_labels === \")\n",
    "print(\"hamming_loss={}\".format(sklearn.metrics.hamming_loss(y_true, y_pred_labels)))\n",
    "print(\"zero_one_loss={}\".format(sklearn.metrics.zero_one_loss(y_true, y_pred_labels)))"
   ]
  },
  {
   "cell_type": "code",
   "execution_count": 58,
   "metadata": {},
   "outputs": [
    {
     "name": "stdout",
     "output_type": "stream",
     "text": [
      "=== require y_pred_labels === \n",
      "accuracy_score=0.75\n",
      "confusion_matrix=[[2 0]\n",
      " [1 1]]\n",
      "classification_report=\n",
      "             precision    recall  f1-score   support\n",
      "\n",
      "          0       0.67      1.00      0.80         2\n",
      "          1       1.00      0.50      0.67         2\n",
      "\n",
      "avg / total       0.83      0.75      0.73         4\n",
      "\n",
      "cohen_kappa_score=0.5\n",
      "f1_score=0.6666666666666666\n",
      "jaccard_similarity_score=0.75\n",
      "matthews_corrcoef=0.5773502691896258\n"
     ]
    }
   ],
   "source": [
    "# SCORE: better = 1\n",
    "\n",
    "print(\"=== require y_pred_labels === \")\n",
    "print(\"accuracy_score={}\".format(sklearn.metrics.accuracy_score(y_true, y_pred_labels)))\n",
    "print(\"confusion_matrix={}\".format(sklearn.metrics.confusion_matrix(y_true, y_pred_labels)))\n",
    "print(\"classification_report=\\n{}\".format(sklearn.metrics.classification_report(y_true, y_pred_labels)))\n",
    "\n",
    "print(\"cohen_kappa_score={}\".format(sklearn.metrics.cohen_kappa_score(y_true, y_pred_labels)))\n",
    "print(\"f1_score={}\".format(sklearn.metrics.f1_score(y_true, y_pred_labels)))  # fbeta with beta=1\n",
    "print(\"jaccard_similarity_score={}\".format(sklearn.metrics.jaccard_similarity_score(y_true, y_pred_labels)))\n",
    "print(\"matthews_corrcoef={}\".format(sklearn.metrics.matthews_corrcoef(y_true, y_pred_labels)))"
   ]
  },
  {
   "cell_type": "markdown",
   "metadata": {},
   "source": [
    "# Heavily imbalances classes"
   ]
  },
  {
   "cell_type": "markdown",
   "metadata": {},
   "source": [
    "## Mostly \"yes\", mostly correct"
   ]
  },
  {
   "cell_type": "code",
   "execution_count": 61,
   "metadata": {},
   "outputs": [],
   "source": [
    "y_true = np.array([0, 1, 1, 1, 1, 1, 1, 1, 1, 1, 1, 1, 1, 1, 1, 1, 1, 1, 1, 1, 1, 1, 1, 1, 1, 1, 1, 1, 1, 1, 1, 1])\n",
    "y_pred = np.array([1, 1, 1, 1, 1, 1, 1, 1, 1, 1, 1, 1, 1, 1, 1, 1, 1, 1, 1, 1, 1, 1, 1, 1, 1, 1, 1, 1, 1, 1, 1, 1])"
   ]
  },
  {
   "cell_type": "code",
   "execution_count": 62,
   "metadata": {},
   "outputs": [
    {
     "name": "stdout",
     "output_type": "stream",
     "text": [
      "roc_auc_score=0.5\n",
      "[0. 1.] [0. 1.] [2 1]\n",
      "0.5\n"
     ]
    },
    {
     "data": {
      "image/png": "[encoded data removed]",
      "text/plain": [
       "<matplotlib.figure.Figure at 0x7f86ee2f3da0>"
      ]
     },
     "metadata": {},
     "output_type": "display_data"
    }
   ],
   "source": [
    "print(\"roc_auc_score={}\".format(sklearn.metrics.roc_auc_score(y_true, y_pred)))\n",
    "\n",
    "# Plot: http://scikit-learn.org/stable/auto_examples/model_selection/plot_roc.html\n",
    "# Compute ROC curve and ROC area for each class\n",
    "fpr, tpr, thresholds = sklearn.metrics.roc_curve(y_true, y_pred)\n",
    "print(fpr, tpr, thresholds)\n",
    "roc_auc = sklearn.metrics.auc(fpr, tpr)\n",
    "print(roc_auc)\n",
    "\n",
    "plt.figure()\n",
    "lw = 2\n",
    "plt.plot(fpr, tpr, color='darkorange',\n",
    "         lw=lw, label='ROC curve (area = %0.2f)' % roc_auc)\n",
    "plt.plot([0, 1], [0, 1], color='navy', lw=lw, linestyle='--')\n",
    "plt.xlim([0.0, 1.0])\n",
    "plt.ylim([0.0, 1.05])\n",
    "plt.xlabel('False Positive Rate')\n",
    "plt.ylabel('True Positive Rate')\n",
    "plt.title('Receiver operating characteristic example')\n",
    "plt.legend(loc=\"lower right\")\n",
    "plt.show()"
   ]
  },
  {
   "cell_type": "code",
   "execution_count": 63,
   "metadata": {
    "scrolled": false
   },
   "outputs": [
    {
     "name": "stdout",
     "output_type": "stream",
     "text": [
      "average_precision_score=0.96875\n",
      "[0.96875 1.     ] [1. 0.] [1]\n"
     ]
    },
    {
     "data": {
      "text/plain": [
       "Text(0.5,1,'2-class Precision-Recall curve: AP=0.97')"
      ]
     },
     "execution_count": 63,
     "metadata": {},
     "output_type": "execute_result"
    },
    {
     "data": {
      "image/png": "[encoded data removed]",
      "text/plain": [
       "<matplotlib.figure.Figure at 0x7f86ee2dd0f0>"
      ]
     },
     "metadata": {},
     "output_type": "display_data"
    }
   ],
   "source": [
    "print(\"average_precision_score={}\".format(sklearn.metrics.average_precision_score(y_true, y_pred)))\n",
    "\n",
    "# Plot\n",
    "precision, recall, thresholds = sklearn.metrics.precision_recall_curve(y_true, y_pred)\n",
    "print(precision, recall, thresholds)\n",
    "plt.step(recall, precision, color='b', alpha=0.2,\n",
    "         where='post')\n",
    "plt.fill_between(recall, precision, step='post', alpha=0.2,\n",
    "                 color='b')\n",
    "plt.xlabel('Recall')\n",
    "plt.ylabel('Precision')\n",
    "plt.ylim([0.0, 1.05])\n",
    "plt.xlim([0.0, 1.0])\n",
    "plt.title('2-class Precision-Recall curve: AP={0:0.2f}'.format(\n",
    "          sklearn.metrics.average_precision_score(y_true, y_pred)))"
   ]
  },
  {
   "cell_type": "code",
   "execution_count": 64,
   "metadata": {},
   "outputs": [],
   "source": [
    "y_pred_labels = y_pred"
   ]
  },
  {
   "cell_type": "code",
   "execution_count": 65,
   "metadata": {},
   "outputs": [
    {
     "name": "stdout",
     "output_type": "stream",
     "text": [
      "=== require y_pred === \n",
      "brier_score_loss=0.03125\n",
      "hinge_loss=0.0625\n",
      "log_loss=1.0793617497606534\n",
      "\n",
      "=== require y_pred_labels === \n",
      "hamming_loss=0.03125\n",
      "zero_one_loss=0.03125\n"
     ]
    }
   ],
   "source": [
    "# LOSSES: better = 0\n",
    "\n",
    "print(\"=== require y_pred === \")\n",
    "print(\"brier_score_loss={}\".format(sklearn.metrics.brier_score_loss(y_true, y_pred)))\n",
    "print(\"hinge_loss={}\".format(sklearn.metrics.hinge_loss(y_true, y_pred)))\n",
    "print(\"log_loss={}\".format(sklearn.metrics.log_loss(y_true, y_pred)))\n",
    "\n",
    "print(\"\\n=== require y_pred_labels === \")\n",
    "print(\"hamming_loss={}\".format(sklearn.metrics.hamming_loss(y_true, y_pred_labels)))\n",
    "print(\"zero_one_loss={}\".format(sklearn.metrics.zero_one_loss(y_true, y_pred_labels)))"
   ]
  },
  {
   "cell_type": "code",
   "execution_count": 69,
   "metadata": {},
   "outputs": [
    {
     "name": "stdout",
     "output_type": "stream",
     "text": [
      "=== require y_pred_labels === \n",
      "accuracy_score=0.96875\n",
      "confusion_matrix=[[ 0  1]\n",
      " [ 0 31]]\n",
      "classification_report=\n",
      "             precision    recall  f1-score   support\n",
      "\n",
      "          0       0.00      0.00      0.00         1\n",
      "          1       0.97      1.00      0.98        31\n",
      "\n",
      "avg / total       0.94      0.97      0.95        32\n",
      "\n",
      "cohen_kappa_score=0.0\n",
      "f1_score=0.9841269841269841\n",
      "jaccard_similarity_score=0.96875\n",
      "matthews_corrcoef=0.0\n"
     ]
    },
    {
     "name": "stderr",
     "output_type": "stream",
     "text": [
      "/home/andyandy/git/sar-pipeline/venv/lib/python3.5/site-packages/sklearn/metrics/classification.py:1135: UndefinedMetricWarning: Precision and F-score are ill-defined and being set to 0.0 in labels with no predicted samples.\n",
      "  'precision', 'predicted', average, warn_for)\n",
      "/home/andyandy/git/sar-pipeline/venv/lib/python3.5/site-packages/sklearn/metrics/classification.py:538: RuntimeWarning: invalid value encountered in double_scalars\n",
      "  mcc = cov_ytyp / np.sqrt(cov_ytyt * cov_ypyp)\n"
     ]
    }
   ],
   "source": [
    "# SCORE: better = 1\n",
    "\n",
    "print(\"=== require y_pred_labels === \")\n",
    "print(\"accuracy_score={}\".format(sklearn.metrics.accuracy_score(y_true, y_pred_labels)))\n",
    "print(\"confusion_matrix={}\".format(sklearn.metrics.confusion_matrix(y_true, y_pred_labels)))\n",
    "print(\"classification_report=\\n{}\".format(sklearn.metrics.classification_report(y_true, y_pred_labels)))\n",
    "\n",
    "print(\"cohen_kappa_score={}\".format(sklearn.metrics.cohen_kappa_score(y_true, y_pred_labels)))\n",
    "print(\"f1_score={}\".format(sklearn.metrics.f1_score(y_true, y_pred_labels)))  # fbeta with beta=1\n",
    "print(\"jaccard_similarity_score={}\".format(sklearn.metrics.jaccard_similarity_score(y_true, y_pred_labels)))\n",
    "print(\"matthews_corrcoef={}\".format(sklearn.metrics.matthews_corrcoef(y_true, y_pred_labels)))"
   ]
  },
  {
   "cell_type": "markdown",
   "metadata": {},
   "source": [
    "## Mostly \"yes\", mostly incorrect"
   ]
  },
  {
   "cell_type": "code",
   "execution_count": 90,
   "metadata": {},
   "outputs": [],
   "source": [
    "y_true = np.array([0, 1, 1, 1, 1, 1, 1, 1, 1, 1, 1, 1, 1, 1, 1, 1, 1, 1, 1, 1, 1, 1, 1, 1, 1, 1, 1, 1, 1, 1, 1, 1])\n",
    "y_pred = np.array([0, 0, 0, 0, 0, 0, 0, 0, 0, 0, 0, 0, 0, 0, 0, 0, 0, 0, 0, 0, 0, 0, 0, 0, 0, 0, 0, 0, 0, 0, 0, 0])"
   ]
  },
  {
   "cell_type": "code",
   "execution_count": 91,
   "metadata": {},
   "outputs": [
    {
     "name": "stdout",
     "output_type": "stream",
     "text": [
      "roc_auc_score=0.5\n",
      "[0. 1.] [0. 1.] [1 0]\n",
      "0.5\n"
     ]
    },
    {
     "data": {
      "image/png": "[encoded data removed]",
      "text/plain": [
       "<matplotlib.figure.Figure at 0x7f86ee19d240>"
      ]
     },
     "metadata": {},
     "output_type": "display_data"
    }
   ],
   "source": [
    "print(\"roc_auc_score={}\".format(sklearn.metrics.roc_auc_score(y_true, y_pred)))\n",
    "\n",
    "# Plot: http://scikit-learn.org/stable/auto_examples/model_selection/plot_roc.html\n",
    "# Compute ROC curve and ROC area for each class\n",
    "fpr, tpr, thresholds = sklearn.metrics.roc_curve(y_true, y_pred)\n",
    "print(fpr, tpr, thresholds)\n",
    "roc_auc = sklearn.metrics.auc(fpr, tpr)\n",
    "print(roc_auc)\n",
    "\n",
    "plt.figure()\n",
    "lw = 2\n",
    "plt.plot(fpr, tpr, color='darkorange',\n",
    "         lw=lw, label='ROC curve (area = %0.2f)' % roc_auc)\n",
    "plt.plot([0, 1], [0, 1], color='navy', lw=lw, linestyle='--')\n",
    "plt.xlim([0.0, 1.0])\n",
    "plt.ylim([0.0, 1.05])\n",
    "plt.xlabel('False Positive Rate')\n",
    "plt.ylabel('True Positive Rate')\n",
    "plt.title('Receiver operating characteristic example')\n",
    "plt.legend(loc=\"lower right\")\n",
    "plt.show()"
   ]
  },
  {
   "cell_type": "code",
   "execution_count": 92,
   "metadata": {
    "scrolled": false
   },
   "outputs": [
    {
     "name": "stdout",
     "output_type": "stream",
     "text": [
      "average_precision_score=0.96875\n",
      "[0.96875 1.     ] [1. 0.] [0]\n"
     ]
    },
    {
     "data": {
      "text/plain": [
       "Text(0.5,1,'2-class Precision-Recall curve: AP=0.97')"
      ]
     },
     "execution_count": 92,
     "metadata": {},
     "output_type": "execute_result"
    },
    {
     "data": {
      "image/png": "[encoded data removed]",
      "text/plain": [
       "<matplotlib.figure.Figure at 0x7f86ee0fef28>"
      ]
     },
     "metadata": {},
     "output_type": "display_data"
    }
   ],
   "source": [
    "print(\"average_precision_score={}\".format(sklearn.metrics.average_precision_score(y_true, y_pred)))\n",
    "\n",
    "# Plot\n",
    "precision, recall, thresholds = sklearn.metrics.precision_recall_curve(y_true, y_pred)\n",
    "print(precision, recall, thresholds)\n",
    "plt.step(recall, precision, color='b', alpha=0.2,\n",
    "         where='post')\n",
    "plt.fill_between(recall, precision, step='post', alpha=0.2,\n",
    "                 color='b')\n",
    "plt.xlabel('Recall')\n",
    "plt.ylabel('Precision')\n",
    "plt.ylim([0.0, 1.05])\n",
    "plt.xlim([0.0, 1.0])\n",
    "plt.title('2-class Precision-Recall curve: AP={0:0.2f}'.format(\n",
    "          sklearn.metrics.average_precision_score(y_true, y_pred)))"
   ]
  },
  {
   "cell_type": "code",
   "execution_count": 81,
   "metadata": {},
   "outputs": [],
   "source": [
    "y_pred_labels = y_pred"
   ]
  },
  {
   "cell_type": "code",
   "execution_count": 82,
   "metadata": {},
   "outputs": [
    {
     "name": "stdout",
     "output_type": "stream",
     "text": [
      "=== require y_pred === \n",
      "brier_score_loss=0.96875\n",
      "hinge_loss=1.0\n",
      "log_loss=33.459439632569726\n",
      "\n",
      "=== require y_pred_labels === \n",
      "hamming_loss=0.96875\n",
      "zero_one_loss=0.96875\n"
     ]
    }
   ],
   "source": [
    "# LOSSES: better = 0\n",
    "\n",
    "print(\"=== require y_pred === \")\n",
    "print(\"brier_score_loss={}\".format(sklearn.metrics.brier_score_loss(y_true, y_pred)))\n",
    "print(\"hinge_loss={}\".format(sklearn.metrics.hinge_loss(y_true, y_pred)))\n",
    "print(\"log_loss={}\".format(sklearn.metrics.log_loss(y_true, y_pred)))\n",
    "\n",
    "print(\"\\n=== require y_pred_labels === \")\n",
    "print(\"hamming_loss={}\".format(sklearn.metrics.hamming_loss(y_true, y_pred_labels)))\n",
    "print(\"zero_one_loss={}\".format(sklearn.metrics.zero_one_loss(y_true, y_pred_labels)))"
   ]
  },
  {
   "cell_type": "code",
   "execution_count": 83,
   "metadata": {},
   "outputs": [
    {
     "name": "stdout",
     "output_type": "stream",
     "text": [
      "=== require y_pred_labels === \n",
      "accuracy_score=0.03125\n",
      "confusion_matrix=[[ 1  0]\n",
      " [31  0]]\n",
      "classification_report=\n",
      "             precision    recall  f1-score   support\n",
      "\n",
      "          0       0.03      1.00      0.06         1\n",
      "          1       0.00      0.00      0.00        31\n",
      "\n",
      "avg / total       0.00      0.03      0.00        32\n",
      "\n",
      "cohen_kappa_score=0.0\n",
      "f1_score=0.0\n",
      "jaccard_similarity_score=0.03125\n",
      "matthews_corrcoef=0.0\n"
     ]
    },
    {
     "name": "stderr",
     "output_type": "stream",
     "text": [
      "/home/andyandy/git/sar-pipeline/venv/lib/python3.5/site-packages/sklearn/metrics/classification.py:1135: UndefinedMetricWarning: Precision and F-score are ill-defined and being set to 0.0 in labels with no predicted samples.\n",
      "  'precision', 'predicted', average, warn_for)\n",
      "/home/andyandy/git/sar-pipeline/venv/lib/python3.5/site-packages/sklearn/metrics/classification.py:1135: UndefinedMetricWarning: F-score is ill-defined and being set to 0.0 due to no predicted samples.\n",
      "  'precision', 'predicted', average, warn_for)\n",
      "/home/andyandy/git/sar-pipeline/venv/lib/python3.5/site-packages/sklearn/metrics/classification.py:538: RuntimeWarning: invalid value encountered in double_scalars\n",
      "  mcc = cov_ytyp / np.sqrt(cov_ytyt * cov_ypyp)\n"
     ]
    }
   ],
   "source": [
    "# SCORE: better = 1\n",
    "\n",
    "print(\"=== require y_pred_labels === \")\n",
    "print(\"accuracy_score={}\".format(sklearn.metrics.accuracy_score(y_true, y_pred_labels)))\n",
    "print(\"confusion_matrix={}\".format(sklearn.metrics.confusion_matrix(y_true, y_pred_labels)))\n",
    "print(\"classification_report=\\n{}\".format(sklearn.metrics.classification_report(y_true, y_pred_labels)))\n",
    "\n",
    "print(\"cohen_kappa_score={}\".format(sklearn.metrics.cohen_kappa_score(y_true, y_pred_labels)))\n",
    "print(\"f1_score={}\".format(sklearn.metrics.f1_score(y_true, y_pred_labels)))  # fbeta with beta=1\n",
    "print(\"jaccard_similarity_score={}\".format(sklearn.metrics.jaccard_similarity_score(y_true, y_pred_labels)))\n",
    "print(\"matthews_corrcoef={}\".format(sklearn.metrics.matthews_corrcoef(y_true, y_pred_labels)))"
   ]
  },
  {
   "cell_type": "markdown",
   "metadata": {},
   "source": [
    "## Mostly \"no\", mostly correct"
   ]
  },
  {
   "cell_type": "code",
   "execution_count": 72,
   "metadata": {},
   "outputs": [],
   "source": [
    "y_true = np.array([1, 0, 0, 0, 0, 0, 0, 0, 0, 0, 0, 0, 0, 0, 0, 0, 0, 0, 0, 0, 0, 0, 0, 0, 0, 0, 0, 0, 0, 0, 0, 0])\n",
    "y_pred = np.array([0, 0, 0, 0, 0, 0, 0, 0, 0, 0, 0, 0, 0, 0, 0, 0, 0, 0, 0, 0, 0, 0, 0, 0, 0, 0, 0, 0, 0, 0, 0, 0])"
   ]
  },
  {
   "cell_type": "code",
   "execution_count": 73,
   "metadata": {},
   "outputs": [
    {
     "name": "stdout",
     "output_type": "stream",
     "text": [
      "roc_auc_score=0.5\n",
      "[0. 1.] [0. 1.] [1 0]\n",
      "0.5\n"
     ]
    },
    {
     "data": {
      "image/png": "[encoded data removed]",
      "text/plain": [
       "<matplotlib.figure.Figure at 0x7f86ee582cc0>"
      ]
     },
     "metadata": {},
     "output_type": "display_data"
    }
   ],
   "source": [
    "print(\"roc_auc_score={}\".format(sklearn.metrics.roc_auc_score(y_true, y_pred)))\n",
    "\n",
    "# Plot: http://scikit-learn.org/stable/auto_examples/model_selection/plot_roc.html\n",
    "# Compute ROC curve and ROC area for each class\n",
    "fpr, tpr, thresholds = sklearn.metrics.roc_curve(y_true, y_pred)\n",
    "print(fpr, tpr, thresholds)\n",
    "roc_auc = sklearn.metrics.auc(fpr, tpr)\n",
    "print(roc_auc)\n",
    "\n",
    "plt.figure()\n",
    "lw = 2\n",
    "plt.plot(fpr, tpr, color='darkorange',\n",
    "         lw=lw, label='ROC curve (area = %0.2f)' % roc_auc)\n",
    "plt.plot([0, 1], [0, 1], color='navy', lw=lw, linestyle='--')\n",
    "plt.xlim([0.0, 1.0])\n",
    "plt.ylim([0.0, 1.05])\n",
    "plt.xlabel('False Positive Rate')\n",
    "plt.ylabel('True Positive Rate')\n",
    "plt.title('Receiver operating characteristic example')\n",
    "plt.legend(loc=\"lower right\")\n",
    "plt.show()"
   ]
  },
  {
   "cell_type": "code",
   "execution_count": 74,
   "metadata": {
    "scrolled": false
   },
   "outputs": [
    {
     "name": "stdout",
     "output_type": "stream",
     "text": [
      "average_precision_score=0.03125\n",
      "[0.03125 1.     ] [1. 0.] [0]\n"
     ]
    },
    {
     "data": {
      "text/plain": [
       "Text(0.5,1,'2-class Precision-Recall curve: AP=0.03')"
      ]
     },
     "execution_count": 74,
     "metadata": {},
     "output_type": "execute_result"
    },
    {
     "data": {
      "image/png": "[encoded data removed]",
      "text/plain": [
       "<matplotlib.figure.Figure at 0x7f86ee12d5c0>"
      ]
     },
     "metadata": {},
     "output_type": "display_data"
    }
   ],
   "source": [
    "print(\"average_precision_score={}\".format(sklearn.metrics.average_precision_score(y_true, y_pred)))\n",
    "\n",
    "# Plot\n",
    "precision, recall, thresholds = sklearn.metrics.precision_recall_curve(y_true, y_pred)\n",
    "print(precision, recall, thresholds)\n",
    "plt.step(recall, precision, color='b', alpha=0.2,\n",
    "         where='post')\n",
    "plt.fill_between(recall, precision, step='post', alpha=0.2,\n",
    "                 color='b')\n",
    "plt.xlabel('Recall')\n",
    "plt.ylabel('Precision')\n",
    "plt.ylim([0.0, 1.05])\n",
    "plt.xlim([0.0, 1.0])\n",
    "plt.title('2-class Precision-Recall curve: AP={0:0.2f}'.format(\n",
    "          sklearn.metrics.average_precision_score(y_true, y_pred)))"
   ]
  },
  {
   "cell_type": "code",
   "execution_count": 75,
   "metadata": {},
   "outputs": [],
   "source": [
    "y_pred_labels = y_pred"
   ]
  },
  {
   "cell_type": "code",
   "execution_count": 76,
   "metadata": {},
   "outputs": [
    {
     "name": "stdout",
     "output_type": "stream",
     "text": [
      "=== require y_pred === \n",
      "brier_score_loss=0.03125\n",
      "hinge_loss=1.0\n",
      "log_loss=1.0793367623409598\n",
      "\n",
      "=== require y_pred_labels === \n",
      "hamming_loss=0.03125\n",
      "zero_one_loss=0.03125\n"
     ]
    }
   ],
   "source": [
    "# LOSSES: better = 0\n",
    "\n",
    "print(\"=== require y_pred === \")\n",
    "print(\"brier_score_loss={}\".format(sklearn.metrics.brier_score_loss(y_true, y_pred)))\n",
    "print(\"hinge_loss={}\".format(sklearn.metrics.hinge_loss(y_true, y_pred)))\n",
    "print(\"log_loss={}\".format(sklearn.metrics.log_loss(y_true, y_pred)))\n",
    "\n",
    "print(\"\\n=== require y_pred_labels === \")\n",
    "print(\"hamming_loss={}\".format(sklearn.metrics.hamming_loss(y_true, y_pred_labels)))\n",
    "print(\"zero_one_loss={}\".format(sklearn.metrics.zero_one_loss(y_true, y_pred_labels)))"
   ]
  },
  {
   "cell_type": "code",
   "execution_count": 77,
   "metadata": {},
   "outputs": [
    {
     "name": "stdout",
     "output_type": "stream",
     "text": [
      "=== require y_pred_labels === \n",
      "accuracy_score=0.96875\n",
      "confusion_matrix=[[31  0]\n",
      " [ 1  0]]\n",
      "classification_report=\n",
      "             precision    recall  f1-score   support\n",
      "\n",
      "          0       0.97      1.00      0.98        31\n",
      "          1       0.00      0.00      0.00         1\n",
      "\n",
      "avg / total       0.94      0.97      0.95        32\n",
      "\n",
      "cohen_kappa_score=0.0\n",
      "f1_score=0.0\n",
      "jaccard_similarity_score=0.96875\n",
      "matthews_corrcoef=0.0\n"
     ]
    },
    {
     "name": "stderr",
     "output_type": "stream",
     "text": [
      "/home/andyandy/git/sar-pipeline/venv/lib/python3.5/site-packages/sklearn/metrics/classification.py:1135: UndefinedMetricWarning: Precision and F-score are ill-defined and being set to 0.0 in labels with no predicted samples.\n",
      "  'precision', 'predicted', average, warn_for)\n",
      "/home/andyandy/git/sar-pipeline/venv/lib/python3.5/site-packages/sklearn/metrics/classification.py:1135: UndefinedMetricWarning: F-score is ill-defined and being set to 0.0 due to no predicted samples.\n",
      "  'precision', 'predicted', average, warn_for)\n",
      "/home/andyandy/git/sar-pipeline/venv/lib/python3.5/site-packages/sklearn/metrics/classification.py:538: RuntimeWarning: invalid value encountered in double_scalars\n",
      "  mcc = cov_ytyp / np.sqrt(cov_ytyt * cov_ypyp)\n"
     ]
    }
   ],
   "source": [
    "# SCORE: better = 1\n",
    "\n",
    "print(\"=== require y_pred_labels === \")\n",
    "print(\"accuracy_score={}\".format(sklearn.metrics.accuracy_score(y_true, y_pred_labels)))\n",
    "print(\"confusion_matrix={}\".format(sklearn.metrics.confusion_matrix(y_true, y_pred_labels)))\n",
    "print(\"classification_report=\\n{}\".format(sklearn.metrics.classification_report(y_true, y_pred_labels)))\n",
    "\n",
    "print(\"cohen_kappa_score={}\".format(sklearn.metrics.cohen_kappa_score(y_true, y_pred_labels)))\n",
    "print(\"f1_score={}\".format(sklearn.metrics.f1_score(y_true, y_pred_labels)))  # fbeta with beta=1\n",
    "print(\"jaccard_similarity_score={}\".format(sklearn.metrics.jaccard_similarity_score(y_true, y_pred_labels)))\n",
    "print(\"matthews_corrcoef={}\".format(sklearn.metrics.matthews_corrcoef(y_true, y_pred_labels)))"
   ]
  },
  {
   "cell_type": "markdown",
   "metadata": {},
   "source": [
    "## Mostly \"no\", mostly incorrect"
   ]
  },
  {
   "cell_type": "code",
   "execution_count": 84,
   "metadata": {},
   "outputs": [],
   "source": [
    "y_true = np.array([1, 0, 0, 0, 0, 0, 0, 0, 0, 0, 0, 0, 0, 0, 0, 0, 0, 0, 0, 0, 0, 0, 0, 0, 0, 0, 0, 0, 0, 0, 0, 0])\n",
    "y_pred = np.array([1, 1, 1, 1, 1, 1, 1, 1, 1, 1, 1, 1, 1, 1, 1, 1, 1, 1, 1, 1, 1, 1, 1, 1, 1, 1, 1, 1, 1, 1, 1, 1])"
   ]
  },
  {
   "cell_type": "code",
   "execution_count": 85,
   "metadata": {},
   "outputs": [
    {
     "name": "stdout",
     "output_type": "stream",
     "text": [
      "roc_auc_score=0.5\n",
      "[0. 1.] [0. 1.] [2 1]\n",
      "0.5\n"
     ]
    },
    {
     "data": {
      "image/png": "[encoded data removed]",
      "text/plain": [
       "<matplotlib.figure.Figure at 0x7f86ee067c18>"
      ]
     },
     "metadata": {},
     "output_type": "display_data"
    }
   ],
   "source": [
    "print(\"roc_auc_score={}\".format(sklearn.metrics.roc_auc_score(y_true, y_pred)))\n",
    "\n",
    "# Plot: http://scikit-learn.org/stable/auto_examples/model_selection/plot_roc.html\n",
    "# Compute ROC curve and ROC area for each class\n",
    "fpr, tpr, thresholds = sklearn.metrics.roc_curve(y_true, y_pred)\n",
    "print(fpr, tpr, thresholds)\n",
    "roc_auc = sklearn.metrics.auc(fpr, tpr)\n",
    "print(roc_auc)\n",
    "\n",
    "plt.figure()\n",
    "lw = 2\n",
    "plt.plot(fpr, tpr, color='darkorange',\n",
    "         lw=lw, label='ROC curve (area = %0.2f)' % roc_auc)\n",
    "plt.plot([0, 1], [0, 1], color='navy', lw=lw, linestyle='--')\n",
    "plt.xlim([0.0, 1.0])\n",
    "plt.ylim([0.0, 1.05])\n",
    "plt.xlabel('False Positive Rate')\n",
    "plt.ylabel('True Positive Rate')\n",
    "plt.title('Receiver operating characteristic example')\n",
    "plt.legend(loc=\"lower right\")\n",
    "plt.show()"
   ]
  },
  {
   "cell_type": "code",
   "execution_count": 86,
   "metadata": {
    "scrolled": false
   },
   "outputs": [
    {
     "name": "stdout",
     "output_type": "stream",
     "text": [
      "average_precision_score=0.03125\n",
      "[0.03125 1.     ] [1. 0.] [1]\n"
     ]
    },
    {
     "data": {
      "text/plain": [
       "Text(0.5,1,'2-class Precision-Recall curve: AP=0.03')"
      ]
     },
     "execution_count": 86,
     "metadata": {},
     "output_type": "execute_result"
    },
    {
     "data": {
      "image/png": "[encoded data removed]",
      "text/plain": [
       "<matplotlib.figure.Figure at 0x7f86f0ac60b8>"
      ]
     },
     "metadata": {},
     "output_type": "display_data"
    }
   ],
   "source": [
    "print(\"average_precision_score={}\".format(sklearn.metrics.average_precision_score(y_true, y_pred)))\n",
    "\n",
    "# Plot\n",
    "precision, recall, thresholds = sklearn.metrics.precision_recall_curve(y_true, y_pred)\n",
    "print(precision, recall, thresholds)\n",
    "plt.step(recall, precision, color='b', alpha=0.2,\n",
    "         where='post')\n",
    "plt.fill_between(recall, precision, step='post', alpha=0.2,\n",
    "                 color='b')\n",
    "plt.xlabel('Recall')\n",
    "plt.ylabel('Precision')\n",
    "plt.ylim([0.0, 1.05])\n",
    "plt.xlim([0.0, 1.0])\n",
    "plt.title('2-class Precision-Recall curve: AP={0:0.2f}'.format(\n",
    "          sklearn.metrics.average_precision_score(y_true, y_pred)))"
   ]
  },
  {
   "cell_type": "code",
   "execution_count": 87,
   "metadata": {},
   "outputs": [],
   "source": [
    "y_pred_labels = y_pred"
   ]
  },
  {
   "cell_type": "code",
   "execution_count": 88,
   "metadata": {},
   "outputs": [
    {
     "name": "stdout",
     "output_type": "stream",
     "text": [
      "=== require y_pred === \n",
      "brier_score_loss=0.96875\n",
      "hinge_loss=1.9375\n",
      "log_loss=33.46021424258022\n",
      "\n",
      "=== require y_pred_labels === \n",
      "hamming_loss=0.96875\n",
      "zero_one_loss=0.96875\n"
     ]
    }
   ],
   "source": [
    "# LOSSES: better = 0\n",
    "\n",
    "print(\"=== require y_pred === \")\n",
    "print(\"brier_score_loss={}\".format(sklearn.metrics.brier_score_loss(y_true, y_pred)))\n",
    "print(\"hinge_loss={}\".format(sklearn.metrics.hinge_loss(y_true, y_pred)))\n",
    "print(\"log_loss={}\".format(sklearn.metrics.log_loss(y_true, y_pred)))\n",
    "\n",
    "print(\"\\n=== require y_pred_labels === \")\n",
    "print(\"hamming_loss={}\".format(sklearn.metrics.hamming_loss(y_true, y_pred_labels)))\n",
    "print(\"zero_one_loss={}\".format(sklearn.metrics.zero_one_loss(y_true, y_pred_labels)))"
   ]
  },
  {
   "cell_type": "code",
   "execution_count": 89,
   "metadata": {},
   "outputs": [
    {
     "name": "stdout",
     "output_type": "stream",
     "text": [
      "=== require y_pred_labels === \n",
      "accuracy_score=0.03125\n",
      "confusion_matrix=[[ 0 31]\n",
      " [ 0  1]]\n",
      "classification_report=\n",
      "             precision    recall  f1-score   support\n",
      "\n",
      "          0       0.00      0.00      0.00        31\n",
      "          1       0.03      1.00      0.06         1\n",
      "\n",
      "avg / total       0.00      0.03      0.00        32\n",
      "\n",
      "cohen_kappa_score=0.0\n",
      "f1_score=0.06060606060606061\n",
      "jaccard_similarity_score=0.03125\n",
      "matthews_corrcoef=0.0\n"
     ]
    },
    {
     "name": "stderr",
     "output_type": "stream",
     "text": [
      "/home/andyandy/git/sar-pipeline/venv/lib/python3.5/site-packages/sklearn/metrics/classification.py:1135: UndefinedMetricWarning: Precision and F-score are ill-defined and being set to 0.0 in labels with no predicted samples.\n",
      "  'precision', 'predicted', average, warn_for)\n",
      "/home/andyandy/git/sar-pipeline/venv/lib/python3.5/site-packages/sklearn/metrics/classification.py:538: RuntimeWarning: invalid value encountered in double_scalars\n",
      "  mcc = cov_ytyp / np.sqrt(cov_ytyt * cov_ypyp)\n"
     ]
    }
   ],
   "source": [
    "# SCORE: better = 1\n",
    "\n",
    "print(\"=== require y_pred_labels === \")\n",
    "print(\"accuracy_score={}\".format(sklearn.metrics.accuracy_score(y_true, y_pred_labels)))\n",
    "print(\"confusion_matrix={}\".format(sklearn.metrics.confusion_matrix(y_true, y_pred_labels)))\n",
    "print(\"classification_report=\\n{}\".format(sklearn.metrics.classification_report(y_true, y_pred_labels)))\n",
    "\n",
    "print(\"cohen_kappa_score={}\".format(sklearn.metrics.cohen_kappa_score(y_true, y_pred_labels)))\n",
    "print(\"f1_score={}\".format(sklearn.metrics.f1_score(y_true, y_pred_labels)))  # fbeta with beta=1\n",
    "print(\"jaccard_similarity_score={}\".format(sklearn.metrics.jaccard_similarity_score(y_true, y_pred_labels)))\n",
    "print(\"matthews_corrcoef={}\".format(sklearn.metrics.matthews_corrcoef(y_true, y_pred_labels)))"
   ]
  }
 ],
 "metadata": {
  "kernelspec": {
   "display_name": "Python 3",
   "language": "python",
   "name": "python3"
  },
  "language_info": {
   "codemirror_mode": {
    "name": "ipython",
    "version": 3
   },
   "file_extension": ".py",
   "mimetype": "text/x-python",
   "name": "python",
   "nbconvert_exporter": "python",
   "pygments_lexer": "ipython3",
   "version": "3.5.2"
  },
  "toc": {
   "nav_menu": {},
   "number_sections": true,
   "sideBar": true,
   "skip_h1_title": false,
   "toc_cell": false,
   "toc_position": {
    "height": "608px",
    "left": "0px",
    "right": "1215.7px",
    "top": "111px",
    "width": "262px"
   },
   "toc_section_display": "block",
   "toc_window_display": true
  }
 },
 "nbformat": 4,
 "nbformat_minor": 2
}
